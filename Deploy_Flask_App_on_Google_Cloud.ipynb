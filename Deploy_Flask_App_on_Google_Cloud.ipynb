{
  "nbformat": 4,
  "nbformat_minor": 0,
  "metadata": {
    "colab": {
      "provenance": []
    },
    "kernelspec": {
      "name": "python3",
      "display_name": "Python 3"
    },
    "language_info": {
      "name": "python"
    }
  },
  "cells": [
    {
      "cell_type": "markdown",
      "source": [
        "# Containerize the Flask App and Deploy it on Google Cloud\n",
        "\n",
        "<img src='https://drive.google.com/uc?id=1SfTyYVZ3px6IZG5T3OBDZ2wdkjViIevS' width=800 border='1px solid'>\n",
        "\n",
        "Author: Wendy Lee  \n",
        "Last Modified: November 21, 2024\n",
        "\n",
        "---\n",
        "\n",
        "In this lecture, we will containerize the Flask app that we developed in the previous lecture using Docker. We will then deploy the Docker container on Google Cloud. Here are the steps:\n",
        "\n",
        "1. Setup a project on Google Cloud Platform (GCP) using the $50 credit provided to you.\n",
        "2. Install Docker Desktop version\n",
        "3. Install gcloud CLI\n",
        "4. Containerize your Flask App using Docker and deposit to Google Artifact Registry\n",
        "5. Create a bucket in Google Cloud Storage to store the SQLite database\n",
        "6. Deploy the Flask App to Google Cloud using Cloud Run\n",
        "\n",
        "We will run our Flask app using Google Cloud Run and the SQLite database that our Flask app interacts with will be stored in a bucket in Google Cloud Storage.\n",
        "\n",
        "## Cloud Run\n",
        "Cloud Run is a Google Cloud service for running containers without needing to manage the infrastructure. It comes in two flavors: services and jobs. Services are containers which respond to HTTP requests and are well suited to hosting web servers and API's. Jobs perform a task to completion such as batch processing. Cloud Run is stateless and you pay only for what your container uses in memory and CPU. It also has a generous free tier which makes it even more attractive for getting started with.\n",
        "\n",
        "## Cloud Storage\n",
        "Cloud Storage is Google Cloud's object storage service. It's cheap, severless, and can store enormous amounts of data easily. Cloud Storage is quick and easy to retrieve objects, but it's optimized for quantity rather than high performance read and writes so it's slower than other Google storage services like Filestore or Persistent Disk which are designed to provide storage for applications.\n",
        "\n",
        "## Artifact Registry\n",
        "Google Artifact Registry is a service provided by Google Cloud Platform (GCP) for storing and managing artifacts such as container images, Docker images, Maven/Gradle packages, and other software packages used in software development and deployment processes. It offers a secure and scalable solution for hosting and managing artifacts, providing features such as versioning, access control, vulnerability scanning, and integration with other Google Cloud services. Artifact Registry helps streamline the software development lifecycle by providing a centralized location for storing and sharing artifacts across teams and environments."
      ],
      "metadata": {
        "id": "ORn3vHZi4q6Z"
      }
    },
    {
      "cell_type": "markdown",
      "source": [
        "## Step 1: Use your sjsu.edu email to claim the $50 credit\n",
        "\n",
        "**Important: Use an incognito browser window to complete this step.** Here is the [Student Coupon Retrieval Link](https://gcp.secure.force.com/GCPEDU?cid=uz9kHLRE7oi%2FGmA0nyi9CX%2FbGKyc3mbGbPqK85PuU%2Fx1XAITebUiWhnpfGUOwLhy/) for you to request a Google Cloud coupon. You will be asked to provide **your sjsu email address** and name. An email will be sent to you to confirm these details before a coupon is sent to you. Coupon valid through: 3/20/2026. You can only request ONE code per unique email address. Below is an example of a student called Garfield Orange, who uses the sjsu email to claim the $50 coupon from GCP."
      ],
      "metadata": {
        "id": "_hFSdAzU6vUh"
      }
    },
    {
      "cell_type": "markdown",
      "source": [
        "![picture](https://drive.google.com/uc?id=1fbEh1gi7HxkAhE5I2284ivgtNf26ncs0)\n"
      ],
      "metadata": {
        "id": "iDfMu_rMEXSs"
      }
    },
    {
      "cell_type": "markdown",
      "source": [
        "![picture](https://drive.google.com/uc?id=1AvJYmVfPjs7gtYa7X6b3d-rTyAnYtqj9)"
      ],
      "metadata": {
        "id": "vdNCRfEdHITR"
      }
    },
    {
      "cell_type": "markdown",
      "source": [
        "You should receive an email from Google Cloud with a link to verify your email address. Click on the link in your email as shown in the example below."
      ],
      "metadata": {
        "id": "woKxx4qEH18Z"
      }
    },
    {
      "cell_type": "markdown",
      "source": [
        "<img src='https://drive.google.com/uc?id=1z161Wz3AaU6d-P9xq-1h-Ywi9RJ1FpJT' border=\"1px solid\">"
      ],
      "metadata": {
        "id": "9yzoyS8YHWEE"
      }
    },
    {
      "cell_type": "markdown",
      "source": [
        "![picture](https://drive.google.com/uc?id=1hgp-bP9G_zUlxcm-eiPE2Jyzk9qWtYqw)"
      ],
      "metadata": {
        "id": "mu4FDK7RID-S"
      }
    },
    {
      "cell_type": "markdown",
      "source": [
        "Once your email is verified, you will receive another email from Google Cloud with the coupon code.\n",
        "\n",
        "<img src='https://drive.google.com/uc?id=1LmJCIGc7OwFcelMbiOYOVnB_0xzd3mCv' border=\"1px solid\">"
      ],
      "metadata": {
        "id": "rfU8L2U-IYaU"
      }
    },
    {
      "cell_type": "markdown",
      "source": [
        "Copy the coupon code and then click on the link <font color=orange>\\[here\\]</font> in the email to redeem the coupon.  \n",
        "**Make sure your sjsu.edu email (NOT YOUR PERSONAL GMAIL)**\n",
        " is listed in the GCP credit application as shown below.   \n",
        " Paste the coupon code in the **Coupon code *** box. Click Accept and Continue."
      ],
      "metadata": {
        "id": "9Zragdz5IyDh"
      }
    },
    {
      "cell_type": "markdown",
      "source": [
        "<img src='https://drive.google.com/uc?id=18RNSYqcqh2F7ig1MR0uvVeGe96qacgiB' border=\"1px solid\">"
      ],
      "metadata": {
        "id": "flmlpda9JoxV"
      }
    },
    {
      "cell_type": "markdown",
      "source": [
        "You will then see the BILLING ACCOUNT OVERVIEW page. Click on <font color=blue>**MANAGE BILLING ACCOUNT**</font>.\n",
        "\n",
        "<img src='https://drive.google.com/uc?id=1KEgmE5nOlN-E8l5qMpx3U71ZFHZ3tB72' border=\"1px solid\" width=900>"
      ],
      "metadata": {
        "id": "skEIYY60LMRZ"
      }
    },
    {
      "cell_type": "markdown",
      "source": [
        "Click on <font color=blue>**RENAME BILLING ACCOUNT**</font> and rename it to something meaningful.\n",
        "\n",
        "<img src=\"https://drive.google.com/uc?id=187t2FZQtEsHUz4zNA0jfi800Nm04ZS02\" width=700 border=\"1px solid\">"
      ],
      "metadata": {
        "id": "2TlEFkXlLbJv"
      }
    },
    {
      "cell_type": "markdown",
      "source": [
        "You will return to the GCP Dashboard.\n",
        "\n",
        "<img src='https://drive.google.com/uc?id=1KESYc3EXE2Y8u-QCQkpUsQ4c8vMSlmvq' border=\"1px solid\">\n",
        "\n",
        "You will need to link a project this billing account. Click on **CREATE PROJECT** or click on the sjsu.edu dropdown on the top navigation of the Dashboard and Click on <font color=blue>**NEW PROJECT**</font>\n",
        "\n",
        "<img src=\"https://drive.google.com/uc?id=1ZIz9oksqEdzUkI4bRrpkIPot11Vj18pj\" border=\"1px solid\">\n",
        "\n",
        "\n",
        "\n",
        "\n"
      ],
      "metadata": {
        "id": "wjqS72LxMSM0"
      }
    },
    {
      "cell_type": "markdown",
      "source": [
        "Enter a meaningful project name. If you don't have more than one billing accounts, you will not see the Billing account\\* dropdown. Under **Billing account ***, select the billing account you just created from the dropdown. Click **CREATE**\n",
        "  \n",
        "<img src='https://drive.google.com/uc?id=1xALZUo4gnRuHbRCvYvnxUbjf14GqU7Ed' border='1px solid' width=360>"
      ],
      "metadata": {
        "id": "kByCfhuuPCtt"
      }
    },
    {
      "cell_type": "markdown",
      "source": [
        "You will return to the Dashboard and you will see the currect project information.\n",
        "\n",
        "<img src='https://drive.google.com/uc?id=1yWvTjWkGPku7muwsXgSZtY_p0JjfJSYL' border='1px solid'>"
      ],
      "metadata": {
        "id": "RLBeCH5oPm3b"
      }
    },
    {
      "cell_type": "markdown",
      "source": [
        "## Step 2: Download and install the [Docker Desktop Application](https://www.docker.com/products/docker-desktop/)\n",
        "- Be sure to download the version that matches your operating system."
      ],
      "metadata": {
        "id": "HZLv_Jng7_Vi"
      }
    },
    {
      "cell_type": "markdown",
      "source": [
        "<img src='https://drive.google.com/uc?id=1H2PeHLlchy8Sup9iNlTBSkBknIwsu3e0' border='1px solid'>"
      ],
      "metadata": {
        "id": "OUFKOdYAQDZ9"
      }
    },
    {
      "cell_type": "markdown",
      "source": [
        "## Step 3: Download and install Google Cloud Command-line Utility - [gcloud CLI](https://cloud.google.com/sdk/docs/install)\n"
      ],
      "metadata": {
        "id": "Xc3TtA1f8K0y"
      }
    },
    {
      "cell_type": "markdown",
      "source": [
        "- Be sure to install the version that matches your operating system.\n",
        "\n",
        "<img src='https://drive.google.com/uc?id=1OCYiztA6QznIcnY6FCwtB_ZxZmRPBx4F' border='1px solid'>"
      ],
      "metadata": {
        "id": "50KJnvSfBxsA"
      }
    },
    {
      "cell_type": "markdown",
      "source": [
        "## Step 4: Containerize your Flask App and deposit it to Google Artifact Registry\n",
        "\n"
      ],
      "metadata": {
        "id": "zrvmMGfvZxPF"
      }
    },
    {
      "cell_type": "markdown",
      "source": [
        "\n",
        "1. **Activate Python virtual environment** - First, we will activate the Python virtual environment (venv) where we install Flask. For example, I created a Python venv called `my_env` and that's where I installed Flask. I will go to the directory where I created the Python venv and run this command:\n",
        "   ```source my_env/bin/activate```\n",
        "   \n",
        "2. **Save the list of libraries needed** - Once you activated the virtual environment, run `pip freeze > requirements.txt` to save the list of libraries needed to run the Flask app in the `requirements.txt` file. The `requirements.txt` now should contain all the dependencies needed for running the Flask app. This is how the `requirements.txt` looks like:\n",
        "    ```\n",
        "    click==8.1.7\n",
        "    Flask==2.2.5\n",
        "    importlib-metadata==6.7.0\n",
        "    itsdangerous==2.1.2\n",
        "    Jinja2==3.1.3\n",
        "    MarkupSafe==2.1.5\n",
        "    typing-extensions==4.7.1\n",
        "    Werkzeug==2.2.3\n",
        "    zipp==3.15.0\n",
        "    ```\n",
        "3. **Move the database file to the `data` directory and update `app.py`**\n",
        "   - In the directory that you store your `app.py`, create a new directory called `data` and move the `database.db` to the `data` directory.\n",
        "   - Update the function `get_db_connection()` in `app.py` to reflect the new\n",
        "   database location:\n",
        "    ```\n",
        "    conn = sqlite3.connect('data/database.db')\n",
        "    ```\n",
        "    **Note:** Try running your flask app again to see if it is working properly.\n",
        "    ```\n",
        "    flask --app app run -p 5000\n",
        "    ```\n",
        "4. **Create the Docker script** - Create a new file called `Dockerfile` in your flask app directory with the following content:\n",
        "\n",
        "    ```\n",
        "    # Use an official Python runtime as a parent image\n",
        "    # Check your python version for this\n",
        "    FROM python:3.9.4\n",
        "\n",
        "    # Set the working directory to /app\n",
        "    WORKDIR /app\n",
        "\n",
        "    # Copy the current directory contents into the container at /app\n",
        "    COPY . /app\n",
        "\n",
        "    # Install any needed packages specified in requirements.txt\n",
        "    RUN pip install --no-cache-dir -r requirements.txt\n",
        "\n",
        "    # Create a volume for the SQLite database\n",
        "    VOLUME /app/data\n",
        "\n",
        "    # Make port 5000 available to the world outside this container\n",
        "    EXPOSE 5000\n",
        "\n",
        "    # Set environment variable FLASK_APP\n",
        "    # my app is in app.py, your might be different\n",
        "    ENV FLASK_APP=app.py\n",
        "\n",
        "    # Run app.py when the container launches\n",
        "    CMD [\"flask\", \"run\", \"--host=0.0.0.0\", \"--port=5000\"]\n",
        "    ```\n",
        "5. **Build the Docker container for deploying on GCP** using this command:\n",
        "   \n",
        "   `docker build -t <YOUR-REGION>-docker.pkg.dev/<YOUR-PROJECT-ID>/<YOUR-REPOSITORY>/<YOUR-APP-NAME>:latest --platform linux/amd64 .`\n",
        "   \n",
        "   to build the image and tag it in preparation for pushing to Google Artifact Registry where it will be pulled by Google Cloud Run.\n",
        "\n",
        "   Here is an example:\n",
        "\n",
        "   `docker build -t us-west1-docker.pkg.dev/cs122-f24/cs122-blog/cs122-blog:latest --platform linux/amd64 .`\n",
        "\n",
        "   ```\n",
        "    [+] Building 34.5s (9/9) FINISHED                                                           docker:desktop-linux\n",
        "    => [internal] load build definition from Dockerfile                                                        0.0s\n",
        "    => => transferring dockerfile: 618B                                                                        0.0s\n",
        "    => [internal] load metadata for docker.io/library/python:3.9.20                                            2.7s\n",
        "    => [internal] load .dockerignore                                                                           0.0s\n",
        "    => => transferring context: 2B                                                                             0.0s\n",
        "    => [1/4] FROM docker.io/library/python:3.9.20@sha256:83a40cb32ae3f117fdfc7d123d56c7cd43fd2936143a3b9acbe  26.3s\n",
        "    => => resolve docker.io/library/python:3.9.20@sha256:83a40cb32ae3f117fdfc7d123d56c7cd43fd2936143a3b9acbe1  0.0s\n",
        "    => => sha256:8223e5d99418aab7262163179079355dd61bff1cb8a60db63c0e8178a1e899ab 6.30kB / 6.30kB              0.0s\n",
        "    => => sha256:c3cc7b6f04730c072f8b292917e0d95bb886096a2b2b1781196170965161cd27 24.06MB / 24.06MB            2.7s\n",
        "    => => sha256:b2b31b28ee3c96e96195c754f8679f690db4b18e475682d716122016ef056f39 49.58MB / 49.58MB            3.1s\n",
        "    => => sha256:2112e5e7c3ff699043b282f1ff24d3ef185c080c28846f1d7acc5ccf650bc13d 64.39MB / 64.39MB            3.3s\n",
        "    => => sha256:83a40cb32ae3f117fdfc7d123d56c7cd43fd2936143a3b9acbe1b42f2ca1f546 10.35kB / 10.35kB            0.0s\n",
        "    => => sha256:54b70fa5a9a48299b6c8b47e3c1a0b969271f9769810f1ab17547f1fecdd72cc 2.32kB / 2.32kB              0.0s\n",
        "    => => sha256:af247aac076473044d24960a352a8ec6f154cf0a28f4fbf35fe5d43b52687ba2 211.29MB / 211.29MB          8.6s\n",
        "    => => sha256:724b30a16eecfb700e7a4734c067e6d5b627a996882d7292df4e613c8c171c0f 6.16MB / 6.16MB              3.5s\n",
        "    => => extracting sha256:b2b31b28ee3c96e96195c754f8679f690db4b18e475682d716122016ef056f39                   3.7s\n",
        "    => => sha256:10c990f494860ae03e096bfd669502cb1d624cbfdb952c9ceb08fcd0c97d34f1 19.85MB / 19.85MB            4.6s\n",
        "    => => sha256:73f8983e760efca6be83747dc1f3332d1edf01fd20fc3d08354bbb16a0ece674 249B / 249B                  3.6s\n",
        "    => => extracting sha256:c3cc7b6f04730c072f8b292917e0d95bb886096a2b2b1781196170965161cd27                   0.9s\n",
        "    => => extracting sha256:2112e5e7c3ff699043b282f1ff24d3ef185c080c28846f1d7acc5ccf650bc13d                   3.9s\n",
        "    => => extracting sha256:af247aac076473044d24960a352a8ec6f154cf0a28f4fbf35fe5d43b52687ba2                  11.9s\n",
        "    => => extracting sha256:724b30a16eecfb700e7a4734c067e6d5b627a996882d7292df4e613c8c171c0f                   0.5s\n",
        "    => => extracting sha256:10c990f494860ae03e096bfd669502cb1d624cbfdb952c9ceb08fcd0c97d34f1                   1.5s\n",
        "    => => extracting sha256:73f8983e760efca6be83747dc1f3332d1edf01fd20fc3d08354bbb16a0ece674                   0.0s\n",
        "    => [internal] load build context                                                                           1.6s\n",
        "    => => transferring context: 21.29kB                                                                        1.5s\n",
        "    => [2/4] WORKDIR /app                                                                                      1.3s\n",
        "    => [3/4] COPY . /app                                                                                       0.0s\n",
        "    => [4/4] RUN pip install --no-cache-dir -r requirements.txt                                                3.9s\n",
        "    => exporting to image                                                                                      0.1s\n",
        "    => => exporting layers                                                                                     0.1s\n",
        "    => => writing image sha256:7676216fe412b1784480bbc945ddadd2d3382029ca4d78ea4d53afe34b1a5aad                0.0s\n",
        "    => => naming to us-west1-docker.pkg.dev/cs122-f24/cs122-blog/cs122-blog:latest                             0.0s\n",
        "                                                                                                                    \n",
        "    View build details: docker-desktop://dashboard/build/desktop-linux/desktop-linux/rqe1la1z7imb2x8f6jff9zg1n       \n",
        "\n",
        "    What's Next?\n",
        "    View a summary of image vulnerabilities and recommendations → docker scout quickview\n",
        "\n",
        "   ```\n",
        "\n",
        "6. **Authenticate with Google Cloud** Before interacting with Artifact Registry, you need to authenticate with your Google Cloud account. Open a terminal or command prompt and run the following command:\n",
        "```\n",
        "gcloud auth login\n",
        "```\n",
        "This will open a browser window where you can log in with your Google Cloud credentials. Once authenticated, you will be able to access your GCP resources.\n",
        "\n",
        "\n",
        "7. **Set gcloud to point to the current project on GCP** - You will need to set gcloud utilize to point to your current project. The example current project below is `cs122-f24`:\n",
        "\n",
        "    `gcloud config set project cs122-f24`\n",
        "\n",
        "    ```\n",
        "    Updated property [core/project].\n",
        "    ```\n",
        "\n",
        "8. **Set the default region for your project** - Choose a region closest to your location to minimize latency (check the latency [here](https://www.gcping.com/)):\n",
        "```\n",
        "gcloud config set compute/region uswest-1\n",
        "```"
      ],
      "metadata": {
        "id": "0waioRteVXnk"
      }
    },
    {
      "cell_type": "markdown",
      "source": [
        "9. **Enable the Artifact Registry API** - Ensure that the Artifact Registry API is enabled for your project. You can enable it using the following command:\n",
        "```\n",
        "gcloud services enable artifactregistry.googleapis.com\n",
        "```\n",
        "\n",
        "10. **Create an Artifact Registry Repository** - In this step, we will create a repository in Artifact Registry to store our artifacts. Run the following command, replacing `[REPO_NAME]` with a name for your repository:\n",
        "```\n",
        "gcloud artifacts repositories create cs122-blog --repository-format=docker --location=us-west1 --description=\"CS122 Blog\"\n",
        "```\n",
        "11. **Authorize gcloud to connect to the Artifact Registry** - You will also need to authorize gcloud to connect to the Artifact Registry by running the following command:\n",
        "\n",
        "    `gcloud auth configure-docker <YOUR-REGION>-docker.pkg.dev`\n",
        "\n",
        "    For example:\n",
        "\n",
        "    `gcloud auth configure-docker us-west1-docker.pkg.dev`\n",
        "\n",
        "    ```\n",
        "    Adding credentials for: us-west1-docker.pkg.dev\n",
        "\n",
        "    After update, the following will be written to your Docker config file located at [/Users/wendylee/.docker/config.json]:\n",
        "    {\n",
        "        \"credHelpers\": {\n",
        "        \"us-west1-docker.pkg.dev\": \"gcloud\"\n",
        "        }\n",
        "    }\n",
        "\n",
        "    Do you want to continue (Y/n)?   Y\n",
        "\n",
        "    Docker configuration file updated.\n",
        "    ```\n",
        "\n",
        "12. **Push the Docker container to Google Artfact Registry** - Now we push the Docker container to the Google Artifact Registry using this command:\n",
        "    `docker push <YOUR-REGION>-docker.pkg.dev/<YOUR-PROJECT-ID>/<YOUR-REPOSITORY>/<YOUR-APP-NAME>:latest`.\n",
        "\n",
        "    Here is an example:\n",
        "    `docker push us-west1-docker.pkg.dev/cs122-f24/cs122-blog/cs122-blog:latest`\n",
        "\n",
        "    ```\n",
        "    The push refers to repository [us-west1-docker.pkg.dev/cs122-f24/cs122-blog/cs122-blog]\n",
        "    8802b276d865: Pushed\n",
        "    b194018f1eff: Pushed\n",
        "    7eb58d6cd526: Layer already exists\n",
        "    6f48ad948751: Layer already exists\n",
        "    1354cd991b1c: Layer already exists\n",
        "    68fff311c877: Layer already exists\n",
        "    96d99c63b722: Layer already exists\n",
        "    00547dd240c4: Layer already exists\n",
        "    b6ca42156b9f: Layer already exists\n",
        "    24b5ce0f1e07: Layer already exists\n",
        "    latest: digest: sha256:3ad07acc5a81d275171cc75c9f3d76489ab985b13b7ecc0b86b847b83a36c813 size: 2421\n",
        "    ```\n",
        "\n",
        "    Once the Docker container is pushed successfully to the Google Artifact Registry, you will see it in the Artifact Registry in GCP console, under CI/CD.\n",
        "\n",
        "    <img src='https://drive.google.com/uc?id=1MvTXNPoQxFOHS9YilHi6KpO5xcmLdn67' border='1px solid'>\n",
        "\n",
        "    Click on **Artifact Registry** and you will see the container listed in the table:\n",
        "\n",
        "    <img src='https://drive.google.com/uc?id=1j-xr0xafHn4BbhP1y61nQvWM3_nJ6yj0' border='1px solid'>\n"
      ],
      "metadata": {
        "id": "HGM3lBhWWEyF"
      }
    },
    {
      "cell_type": "markdown",
      "source": [
        "## Step 5: Create a bucket in Google Storage to store the SQLite Database\n"
      ],
      "metadata": {
        "id": "hRbx52uQdtwY"
      }
    },
    {
      "cell_type": "markdown",
      "source": [
        "Now, we will need to create a bucket in Google Cloud Storage to store our database file using the following command:\n",
        "\n",
        "`gcloud storage buckets create gs://<YOUR-BUCKET-NAME> --project=<YOUR-PROJECT-ID> --location=<YOUR-REGION>`\n",
        "\n",
        "For example:\n",
        "\n",
        "`gcloud storage buckets create gs://cs122-f24-blog --project=cs122-f24 --location=us-west1`\n",
        "\n",
        "```\n",
        "Creating gs://cs122-f24-blog/...\n",
        "```\n",
        "\n",
        "Once the bucket is created, you can view it in the GCP console under Cloud Storage -> Buckets.\n",
        "\n",
        "<img src='https://drive.google.com/uc?id=1yv5kam1d5V_C6lU55kkn20tk-zPoZXa-' border='1px solid' width=300>\n",
        "\n",
        "<img src='https://drive.google.com/uc?id=1ljc6yJ-HtdSdvMFrLZqbQ2AC6xtXZjYT' border='1px solid'>\n",
        "\n",
        "Click on the link to the bucket you created. If you don't see the `database.db` file there, you can upload the one you have created for the Flask App using `gsutil`. Example:\n",
        "\n",
        "`gsutil cp -r data/database.db gs://cs122-f24-blog/`\n",
        "\n",
        "<img src='https://drive.google.com/uc?id=1QHuJ0yySPfrK4SeaZ01wKKiM8GHiVjqG' border='1px solid'>"
      ],
      "metadata": {
        "id": "Or1M-FHf_jDQ"
      }
    },
    {
      "cell_type": "markdown",
      "source": [
        "## Step 6: Deploy the Flask App to Google Cloud"
      ],
      "metadata": {
        "id": "3ZwbfvL7_Kei"
      }
    },
    {
      "cell_type": "markdown",
      "source": [
        "Finally, we can deploy our Flask App to Google Cloud. We will use the `gcloud beta run deploy` command to do that:\n",
        "\n",
        "```\n",
        "gcloud beta run deploy <CLOUD-APP-NAME>\n",
        "    --image <YOUR-REGION>-docker.pkg.dev/<YOUR-PROJECT-ID>/<YOUR-REPOSITORY>/<YOUR-APP-NAME>:latest \\\n",
        "    --add-volume=name=<YOUR-BUCKET-NAME>,type=cloud-storage,bucket=<YOUR-BUCKET-NAME> \\\n",
        "    --add-volume-mount=volume=<YOUR-BUCKET-NAME>,mount-path=/app/data --region=<REGION> \\\n",
        "    --platform=managed \\\n",
        "    --allow-unauthenticated \\\n",
        "    --port=5000\n",
        "```\n",
        "For example:\n",
        "\n",
        "```\n",
        "gcloud beta run deploy cs122-blog \\\n",
        "  --image=us-west1-docker.pkg.dev/cs122-f24/cs122-blog/cs122-blog:latest \\\n",
        "  --add-volume=name=cs122-f24-blog,type=cloud-storage,bucket=cs122-f24-blog \\\n",
        "  --add-volume-mount=volume=cs122-f24-blog,mount-path=/app/data \\\n",
        "  --region=us-west1 \\\n",
        "  --platform=managed \\\n",
        "  --allow-unauthenticated \\\n",
        "  --port=5000\n",
        "```\n",
        "\n",
        "```\n",
        "The following APIs are not enabled on project [cs122-f24]:\n",
        "        run.googleapis.com\n",
        "\n",
        "Do you want enable these APIs to continue (this will take a few minutes)? (y/N)?  y\n",
        "\n",
        "Deploying container to Cloud Run service [cs122-blog] in project [cs122-f24] region [us-west1]\n",
        "✓ Deploying new service... Done.                                                                                            \n",
        "  ✓ Creating Revision...                                                                                                    \n",
        "  ✓ Routing traffic...                                                                                                      \n",
        "  ✓ Setting IAM Policy...                                                                                                   \n",
        "Done.                                                                                                                       \n",
        "Service [cs122-blog] revision [cs122-blog-00001-rpz] has been deployed and is serving 100 percent of traffic.\n",
        "Service URL: https://cs122-blog-209302716720.us-west1.run.app/\n",
        "```\n",
        "\n",
        "Let's test the Flask App on the Cloud using the URL above:\n",
        "\n",
        "<img src='https://drive.google.com/uc?id=1zx7TXgiyCmzU4F9KdGrCcTC8bHjKtm2r' border='1px solid'>"
      ],
      "metadata": {
        "id": "5ilaORGStM6b"
      }
    },
    {
      "cell_type": "markdown",
      "source": [
        "You can go to GCP Cloud Run page to get the URL of the Flask app that we just deployed and also view the usage statistics.\n",
        "\n",
        "<img src='https://drive.google.com/uc?id=1FsKBTewBj8NCTtAFPYRN4ynVDxy1FznI' border='1px solid'>"
      ],
      "metadata": {
        "id": "GqIa1aWwcWJT"
      }
    }
  ]
}